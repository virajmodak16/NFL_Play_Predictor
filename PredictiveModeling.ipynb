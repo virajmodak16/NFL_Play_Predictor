{
 "cells": [
  {
   "cell_type": "markdown",
   "metadata": {},
   "source": [
    "## Import all relevant libraries"
   ]
  },
  {
   "cell_type": "code",
   "execution_count": 1,
   "metadata": {},
   "outputs": [],
   "source": [
    "import pandas as pd\n",
    "import numpy as np\n",
    "import os\n",
    "import sklearn\n",
    "import matplotlib.pyplot as plt\n",
    "import seaborn as sns\n",
    "import time\n",
    "\n",
    "from sklearn.model_selection import train_test_split\n",
    "from sklearn.linear_model import LogisticRegression\n",
    "from sklearn.neighbors import KNeighborsClassifier\n",
    "from sklearn.tree import DecisionTreeClassifier\n",
    "from sklearn.ensemble import RandomForestClassifier\n",
    "from sklearn.ensemble import AdaBoostClassifier\n",
    "from sklearn.svm import SVC\n",
    "from sklearn.preprocessing import LabelEncoder\n",
    "from sklearn.ensemble import GradientBoostingClassifier\n",
    "\n",
    "from sklearn.metrics import accuracy_score\n",
    "from sklearn.metrics import classification_report\n",
    "from sklearn.metrics import confusion_matrix\n",
    "from sklearn.metrics import roc_auc_score\n",
    "from sklearn.metrics import roc_curve, auc"
   ]
  },
  {
   "cell_type": "markdown",
   "metadata": {},
   "source": [
    "## Load and clean-up data one last time before training"
   ]
  },
  {
   "cell_type": "code",
   "execution_count": 3,
   "metadata": {},
   "outputs": [],
   "source": [
    "homepath = r\"D:\\\\Viraj_Work\\\\MISC\\\\Data\"\n",
    "os.chdir(homepath)\n",
    "\n",
    "Final_Data = pd.read_csv('FINAL_PBP_DATA.csv', keep_default_na=False, low_memory=False) #read all the data as list\n",
    "qtrs = [1,2,3,4]\n",
    "downs = ['1','2','3','4']\n",
    "Final_Data = Final_Data[Final_Data['qtr'].isin(qtrs) & Final_Data['down'].isin(downs)]\n",
    "Final_Data = Final_Data[Final_Data['score_differential'] != 'NA']\n",
    "\n",
    "Final_Data['down'] = Final_Data['down'].astype(int)\n",
    "Final_Data['score_differential'] = Final_Data['score_differential'].astype(float)\n",
    "Final_Data['play_clock'] = Final_Data['play_clock'].astype(float)\n",
    "\n",
    "play_dict = {'pass': 1, 'run': 0}\n",
    "Final_Data['play_type'] = Final_Data['play_type'].map(play_dict)"
   ]
  },
  {
   "cell_type": "markdown",
   "metadata": {},
   "source": [
    "## Separate inpendent/response variables and train/test sets"
   ]
  },
  {
   "cell_type": "code",
   "execution_count": 4,
   "metadata": {},
   "outputs": [
    {
     "name": "stdout",
     "output_type": "stream",
     "text": [
      "Following is the information on our dataset\n",
      "\n",
      "<class 'pandas.core.frame.DataFrame'>\n",
      "Int64Index: 333821 entries, 0 to 336966\n",
      "Data columns (total 13 columns):\n",
      "qtr                           333821 non-null int64\n",
      "down                          333821 non-null int32\n",
      "ydstogo                       333821 non-null int64\n",
      "shotgun                       333821 non-null int64\n",
      "no_huddle                     333821 non-null int64\n",
      "posteam_timeouts_remaining    333821 non-null int64\n",
      "score_differential            333821 non-null float64\n",
      "play_clock                    333821 non-null float64\n",
      "yards_to_goal                 333821 non-null int64\n",
      "cum_pass_comp%                333821 non-null float64\n",
      "cum_pass_yards                333821 non-null int64\n",
      "cum_run_yards                 333821 non-null int64\n",
      "teamQB_dual_threat_rating     333821 non-null float64\n",
      "dtypes: float64(4), int32(1), int64(8)\n",
      "memory usage: 34.4 MB\n",
      "None\n"
     ]
    }
   ],
   "source": [
    "X_Full = Final_Data[['qtr', 'down', 'ydstogo', 'shotgun', 'no_huddle',\n",
    "       'posteam_timeouts_remaining', 'score_differential', 'play_clock',\n",
    "       'yards_to_goal', 'cum_pass_comp%', 'cum_pass_yards', 'cum_run_yards',\n",
    "       'teamQB_dual_threat_rating']]\n",
    "y_Full = Final_Data[['play_type']]\n",
    "\n",
    "print(\"Following is the information on our dataset\\n\")\n",
    "print(X_Full.info())\n",
    "\n",
    "X_train, X_test,y_train, y_test = train_test_split(X_Full, y_Full, test_size=0.2, random_state=42)"
   ]
  },
  {
   "cell_type": "markdown",
   "metadata": {},
   "source": [
    "## K - Nearest Neighbors"
   ]
  },
  {
   "cell_type": "code",
   "execution_count": 9,
   "metadata": {
    "scrolled": false
   },
   "outputs": [
    {
     "name": "stdout",
     "output_type": "stream",
     "text": [
      "Fitting 5 folds for each of 10 candidates, totalling 50 fits\n",
      "[CV] n_neighbors=40 ..................................................\n",
      "[CV] ............. n_neighbors=40, score=0.643975136673, total=  11.0s\n",
      "[CV] n_neighbors=40 ..................................................\n"
     ]
    },
    {
     "name": "stderr",
     "output_type": "stream",
     "text": [
      "[Parallel(n_jobs=1)]: Done   1 out of   1 | elapsed:   43.7s remaining:    0.0s\n"
     ]
    },
    {
     "name": "stdout",
     "output_type": "stream",
     "text": [
      "[CV] ............. n_neighbors=40, score=0.644967423051, total=  10.9s\n",
      "[CV] n_neighbors=40 ..................................................\n"
     ]
    },
    {
     "name": "stderr",
     "output_type": "stream",
     "text": [
      "[Parallel(n_jobs=1)]: Done   2 out of   2 | elapsed:  1.7min remaining:    0.0s\n"
     ]
    },
    {
     "name": "stdout",
     "output_type": "stream",
     "text": [
      "[CV] ............. n_neighbors=40, score=0.641709728151, total=  12.2s\n",
      "[CV] n_neighbors=40 ..................................................\n",
      "[CV] ............. n_neighbors=40, score=0.644354989702, total=  15.1s\n",
      "[CV] n_neighbors=40 ..................................................\n",
      "[CV] ............. n_neighbors=40, score=0.646133682831, total=  11.2s\n",
      "[CV] n_neighbors=41 ..................................................\n",
      "[CV] ............. n_neighbors=41, score=0.645566539354, total=  17.1s\n",
      "[CV] n_neighbors=41 ..................................................\n",
      "[CV] ............. n_neighbors=41, score=0.645135924511, total=  13.0s\n",
      "[CV] n_neighbors=41 ..................................................\n",
      "[CV] ............. n_neighbors=41, score=0.643244963679, total=   7.9s\n",
      "[CV] n_neighbors=41 ..................................................\n",
      "[CV] ............. n_neighbors=41, score=0.645497097922, total=   7.4s\n",
      "[CV] n_neighbors=41 ..................................................\n",
      "[CV] ............. n_neighbors=41, score=0.646620483056, total=   7.7s\n",
      "[CV] n_neighbors=42 ..................................................\n",
      "[CV] ............. n_neighbors=42, score=0.644686587284, total=  16.9s\n",
      "[CV] n_neighbors=42 ..................................................\n",
      "[CV] .............. n_neighbors=42, score=0.64429341721, total=   8.3s\n",
      "[CV] n_neighbors=42 ..................................................\n",
      "[CV] ............. n_neighbors=42, score=0.641466337153, total=  16.1s\n",
      "[CV] n_neighbors=42 ..................................................\n",
      "[CV] ............. n_neighbors=42, score=0.646583036884, total=   8.7s\n",
      "[CV] n_neighbors=42 ..................................................\n",
      "[CV] .............. n_neighbors=42, score=0.64677026774, total=  16.1s\n",
      "[CV] n_neighbors=43 ..................................................\n",
      "[CV] ............. n_neighbors=43, score=0.645772485584, total=  12.7s\n",
      "[CV] n_neighbors=43 ..................................................\n",
      "[CV] .............. n_neighbors=43, score=0.64517336928, total=   8.4s\n",
      "[CV] n_neighbors=43 ..................................................\n",
      "[CV] .............. n_neighbors=43, score=0.64283307122, total=  13.2s\n",
      "[CV] n_neighbors=43 ..................................................\n",
      "[CV] ............. n_neighbors=43, score=0.645628159521, total=   8.1s\n",
      "[CV] n_neighbors=43 ..................................................\n",
      "[CV] ............. n_neighbors=43, score=0.646508144542, total=  18.5s\n",
      "[CV] n_neighbors=44 ..................................................\n",
      "[CV] .............. n_neighbors=44, score=0.64500486782, total=  17.8s\n",
      "[CV] n_neighbors=44 ..................................................\n",
      "[CV] ............. n_neighbors=44, score=0.644181082903, total=   8.7s\n",
      "[CV] n_neighbors=44 ..................................................\n",
      "[CV] ............. n_neighbors=44, score=0.641148056616, total=  14.8s\n",
      "[CV] n_neighbors=44 ..................................................\n",
      "[CV] ............. n_neighbors=44, score=0.645234974724, total=  15.9s\n",
      "[CV] n_neighbors=44 ..................................................\n",
      "[CV] ............. n_neighbors=44, score=0.647032390938, total=  12.9s\n",
      "[CV] n_neighbors=45 ..................................................\n",
      "[CV] ............. n_neighbors=45, score=0.645454205048, total=   9.0s\n",
      "[CV] n_neighbors=45 ..................................................\n",
      "[CV] ............. n_neighbors=45, score=0.645847375122, total=  10.4s\n",
      "[CV] n_neighbors=45 ..................................................\n",
      "[CV] ............. n_neighbors=45, score=0.641822062458, total=  12.6s\n",
      "[CV] n_neighbors=45 ..................................................\n",
      "[CV] ............. n_neighbors=45, score=0.645665605692, total=  13.0s\n",
      "[CV] n_neighbors=45 ..................................................\n",
      "[CV] ............. n_neighbors=45, score=0.646695375398, total=  11.1s\n",
      "[CV] n_neighbors=46 ..................................................\n",
      "[CV] ............. n_neighbors=46, score=0.644986145435, total=   8.5s\n",
      "[CV] n_neighbors=46 ..................................................\n",
      "[CV] ............. n_neighbors=46, score=0.644724032053, total=  16.8s\n",
      "[CV] n_neighbors=46 ..................................................\n",
      "[CV] ............. n_neighbors=46, score=0.641634838613, total=   8.6s\n",
      "[CV] n_neighbors=46 ..................................................\n",
      "[CV] ............. n_neighbors=46, score=0.645178805467, total=  15.8s\n",
      "[CV] n_neighbors=46 ..................................................\n",
      "[CV] ............. n_neighbors=46, score=0.647425575735, total=  16.1s\n",
      "[CV] n_neighbors=47 ..................................................\n",
      "[CV] ............. n_neighbors=47, score=0.645398037894, total=   9.9s\n",
      "[CV] n_neighbors=47 ..................................................\n",
      "[CV] ............. n_neighbors=47, score=0.646109488504, total=  12.5s\n",
      "[CV] n_neighbors=47 ..................................................\n",
      "[CV] ............. n_neighbors=47, score=0.643301130832, total=  11.4s\n",
      "[CV] n_neighbors=47 ..................................................\n",
      "[CV] ............. n_neighbors=47, score=0.645665605692, total=  12.3s\n",
      "[CV] n_neighbors=47 ..................................................\n",
      "[CV] .............. n_neighbors=47, score=0.64727579105, total=  16.3s\n",
      "[CV] n_neighbors=48 ..................................................\n",
      "[CV] ............. n_neighbors=48, score=0.645210814049, total=  22.6s\n",
      "[CV] n_neighbors=48 ..................................................\n",
      "[CV] ............. n_neighbors=48, score=0.644274694825, total=  10.1s\n",
      "[CV] n_neighbors=48 ..................................................\n",
      "[CV] ............. n_neighbors=48, score=0.641784617689, total=  10.8s\n",
      "[CV] n_neighbors=48 ..................................................\n",
      "[CV] .............. n_neighbors=48, score=0.64609623666, total=  17.9s\n",
      "[CV] n_neighbors=48 ..................................................\n",
      "[CV] ............. n_neighbors=48, score=0.647425575735, total=   9.3s\n",
      "[CV] n_neighbors=49 ..................................................\n",
      "[CV] ............. n_neighbors=49, score=0.645753763199, total=  13.5s\n",
      "[CV] n_neighbors=49 ..................................................\n",
      "[CV] .............. n_neighbors=49, score=0.64554781697, total=  13.4s\n",
      "[CV] n_neighbors=49 ..................................................\n",
      "[CV] ............. n_neighbors=49, score=0.643581966599, total=  19.8s\n",
      "[CV] n_neighbors=49 ..................................................\n",
      "[CV] ............. n_neighbors=49, score=0.646620483056, total=  18.9s\n",
      "[CV] n_neighbors=49 ..................................................\n",
      "[CV] ............. n_neighbors=49, score=0.646751544655, total=  13.3s\n"
     ]
    },
    {
     "name": "stderr",
     "output_type": "stream",
     "text": [
      "[Parallel(n_jobs=1)]: Done  50 out of  50 | elapsed: 52.1min finished\n"
     ]
    },
    {
     "name": "stdout",
     "output_type": "stream",
     "text": [
      "Best value for n_neighbors is 49\n"
     ]
    },
    {
     "data": {
      "text/plain": [
       "KNeighborsClassifier(algorithm='auto', leaf_size=30, metric='minkowski',\n",
       "           metric_params=None, n_jobs=1, n_neighbors=49, p=2,\n",
       "           weights='uniform')"
      ]
     },
     "execution_count": 9,
     "metadata": {},
     "output_type": "execute_result"
    }
   ],
   "source": [
    "clf1 = KNeighborsClassifier()\n",
    "gs = sklearn.model_selection.GridSearchCV(clf1, param_grid={'n_neighbors': range(40, 50)}, cv = 5, verbose=3)\n",
    "gs_results = gs.fit(X_train,y_train.values.ravel())\n",
    "best_n = gs_results.best_params_['n_neighbors']\n",
    "print('Best value for n_neighbors is {}'.format(best_n))\n",
    "clf1 = KNeighborsClassifier(n_neighbors=best_n)\n",
    "clf1.fit(X_train, y_train.values.ravel())"
   ]
  },
  {
   "cell_type": "code",
   "execution_count": 6,
   "metadata": {},
   "outputs": [
    {
     "name": "stdout",
     "output_type": "stream",
     "text": [
      "\n",
      "Training data set score is 0.672461955545\n",
      "\n",
      "Best n-neighbors value is 39\n",
      "\n",
      "Test data set score is 0.645697596046\n",
      "\n",
      "Classification Report\n",
      "\n",
      "             precision    recall  f1-score   support\n",
      "\n",
      "          0       0.61      0.44      0.51     27890\n",
      "          1       0.66      0.80      0.72     38875\n",
      "\n",
      "avg / total       0.64      0.65      0.63     66765\n",
      "\n",
      "Confusion Matrix\n",
      "\n"
     ]
    },
    {
     "data": {
      "image/png": "[encoded data removed]",
      "text/plain": [
       "<matplotlib.figure.Figure at 0x4279bc18>"
      ]
     },
     "metadata": {},
     "output_type": "display_data"
    },
    {
     "data": {
      "image/png": "[encoded data removed]",
      "text/plain": [
       "<matplotlib.figure.Figure at 0x3cd89eb8>"
      ]
     },
     "metadata": {},
     "output_type": "display_data"
    }
   ],
   "source": [
    "## Training Score\n",
    "print('\\nTraining data set score is {}\\n'.format(accuracy_score(clf1.predict(X_train),y_train)))\n",
    "\n",
    "## Hyperparameter and test score\n",
    "print(\"Best n-neighbors value is {}\\n\".format(best_n))\n",
    "print('Test data set score is {}\\n'.format(accuracy_score(clf1.predict(X_test),y_test)))\n",
    "\n",
    "## Classification report\n",
    "print('Classification Report\\n')\n",
    "print(classification_report(y_test,clf1.predict(X_test)))\n",
    "\n",
    "## Confustion matrix\n",
    "print('Confusion Matrix\\n')\n",
    "#labels = ['run', 'pass']\n",
    "confmat = confusion_matrix(y_test, clf1.predict(X_test))\n",
    "confmat_n = confmat.astype('float')/confmat.sum(axis=1)[:, np.newaxis]\n",
    "fig, ax = plt.subplots(figsize=(5,5))\n",
    "sns.heatmap(confmat_n, annot=True, fmt='.2f', cmap='Blues', ax=ax)\n",
    "ax.set_ylabel('Actual')\n",
    "ax.set_xlabel('Predicted')\n",
    "ax.axhspan\n",
    "plt.savefig('Conf_mat_KNN.png')\n",
    "\n",
    "## ROC Curve\n",
    "y_pred_prob = clf1.predict_proba(X_test)[:,1]\n",
    "fpr, tpr, thresholds = roc_curve(y_test, y_pred_prob)\n",
    "fig, ax = plt.subplots()\n",
    "ax.plot([0, 1], [0, 1], 'k--')\n",
    "ax.plot(fpr, tpr)\n",
    "ax.set_xlabel('False Positive Rate')\n",
    "ax.set_ylabel('True Positive Rate')\n",
    "ax.set_title('ROC Curve');\n",
    "plt.savefig('ROC_KNN.png')\n",
    "\n",
    "## ROC Area"
   ]
  },
  {
   "cell_type": "markdown",
   "metadata": {},
   "source": [
    "## Logistic Regression"
   ]
  },
  {
   "cell_type": "code",
   "execution_count": 7,
   "metadata": {},
   "outputs": [
    {
     "data": {
      "text/plain": [
       "LogisticRegression(C=100, class_weight=None, dual=False, fit_intercept=True,\n",
       "          intercept_scaling=1, max_iter=100, multi_class='ovr', n_jobs=1,\n",
       "          penalty='l2', random_state=None, solver='liblinear', tol=0.0001,\n",
       "          verbose=0, warm_start=False)"
      ]
     },
     "execution_count": 7,
     "metadata": {},
     "output_type": "execute_result"
    }
   ],
   "source": [
    "clf2 = LogisticRegression(solver='liblinear')\n",
    "gs = sklearn.model_selection.GridSearchCV(clf2, param_grid={'C': [0.001, 0.01, 0.1, 1, 10, 100, 1000]}, cv = 5)\n",
    "gs.fit(X_train,y_train.values.ravel())\n",
    "clf2 = LogisticRegression(C=gs.best_params_['C'], solver='liblinear')\n",
    "clf2.fit(X_train,y_train.values.ravel())"
   ]
  },
  {
   "cell_type": "code",
   "execution_count": 8,
   "metadata": {},
   "outputs": [
    {
     "name": "stdout",
     "output_type": "stream",
     "text": [
      "Weight coefficients are as follows\n",
      "\n",
      "                             Weights\n",
      "qtr                        -0.123501\n",
      "down                        0.554158\n",
      "ydstogo                     0.089554\n",
      "shotgun                     1.468002\n",
      "no_huddle                  -0.009586\n",
      "posteam_timeouts_remaining -0.152588\n",
      "score_differential         -0.024096\n",
      "play_clock                 -0.009307\n",
      "yards_to_goal               0.001771\n",
      "cum_pass_comp%              0.551482\n",
      "cum_pass_yards              0.002881\n",
      "cum_run_yards              -0.007682\n",
      "teamQB_dual_threat_rating  -0.451370\n",
      "\n",
      "Training data set score is 0.71711176682\n",
      "\n",
      "Best C parameter is 100\n",
      "\n",
      "Test data set score is 0.72025762001\n",
      "\n",
      "Classification Report\n",
      "\n",
      "             precision    recall  f1-score   support\n",
      "\n",
      "          0       0.66      0.67      0.67     27890\n",
      "          1       0.76      0.76      0.76     38875\n",
      "\n",
      "avg / total       0.72      0.72      0.72     66765\n",
      "\n",
      "Confusion Matrix\n",
      "\n"
     ]
    },
    {
     "data": {
      "image/png": "[encoded data removed]",
      "text/plain": [
       "<matplotlib.figure.Figure at 0x46a1eb8>"
      ]
     },
     "metadata": {},
     "output_type": "display_data"
    },
    {
     "data": {
      "image/png": "[encoded data removed]",
      "text/plain": [
       "<matplotlib.figure.Figure at 0x46a1e10>"
      ]
     },
     "metadata": {},
     "output_type": "display_data"
    }
   ],
   "source": [
    "## Print Log Reg weights\n",
    "print('Weight coefficients are as follows\\n')\n",
    "weights = pd.DataFrame(clf2.coef_.T, index = X_Full.columns, columns = ['Weights'])\n",
    "print(weights)\n",
    "\n",
    "## Training Score\n",
    "print('\\nTraining data set score is {}\\n'.format(accuracy_score(clf2.predict(X_train),y_train)))\n",
    "\n",
    "## Hyperparameter and test score\n",
    "print(\"Best C parameter is {}\\n\".format(gs.best_params_['C']))\n",
    "print('Test data set score is {}\\n'.format(accuracy_score(clf2.predict(X_test),y_test)))\n",
    "\n",
    "## Classification report\n",
    "print('Classification Report\\n')\n",
    "print(classification_report(y_test,clf2.predict(X_test)))\n",
    "\n",
    "## Confustion matrix\n",
    "print('Confusion Matrix\\n')\n",
    "#labels = ['run', 'pass']\n",
    "confmat = confusion_matrix(y_test, clf2.predict(X_test))\n",
    "confmat_n = confmat.astype('float')/confmat.sum(axis=1)[:, np.newaxis]\n",
    "fig, ax = plt.subplots(figsize=(5,5))\n",
    "sns.heatmap(confmat_n, annot=True, fmt='.2f', cmap='Blues', ax=ax)\n",
    "ax.set_ylabel('Actual')\n",
    "ax.set_xlabel('Predicted')\n",
    "ax.axhspan\n",
    "plt.savefig('Conf_mat_LogReg.png')\n",
    "\n",
    "## ROC Curve\n",
    "y_pred_prob = clf2.predict_proba(X_test)[:,1]\n",
    "fpr, tpr, thresholds = roc_curve(y_test, y_pred_prob)\n",
    "fig, ax = plt.subplots()\n",
    "ax.plot([0, 1], [0, 1], 'k--')\n",
    "ax.plot(fpr, tpr)\n",
    "ax.set_xlabel('False Positive Rate')\n",
    "ax.set_ylabel('True Positive Rate')\n",
    "ax.set_title('ROC Curve');\n",
    "plt.savefig('ROC_LogReg.png')\n",
    "\n",
    "## ROC Area"
   ]
  },
  {
   "cell_type": "markdown",
   "metadata": {},
   "source": [
    "## Decision Trees"
   ]
  },
  {
   "cell_type": "code",
   "execution_count": 9,
   "metadata": {},
   "outputs": [
    {
     "data": {
      "text/plain": [
       "DecisionTreeClassifier(class_weight=None, criterion='gini', max_depth=13,\n",
       "            max_features=None, max_leaf_nodes=None,\n",
       "            min_impurity_decrease=0.0, min_impurity_split=None,\n",
       "            min_samples_leaf=1, min_samples_split=2,\n",
       "            min_weight_fraction_leaf=0.0, presort=False, random_state=None,\n",
       "            splitter='best')"
      ]
     },
     "execution_count": 9,
     "metadata": {},
     "output_type": "execute_result"
    }
   ],
   "source": [
    "clf3 = DecisionTreeClassifier()\n",
    "param_grid = {'max_depth': np.arange(3, 20)}\n",
    "gs = sklearn.model_selection.GridSearchCV(clf3, param_grid, cv = 5, scoring='accuracy')\n",
    "gs_results = gs.fit(X_train,y_train.values.ravel())\n",
    "best_max_depth = gs_results.best_params_['max_depth']\n",
    "clf3 = DecisionTreeClassifier(max_depth=best_max_depth)\n",
    "clf3.fit(X_train,y_train.values.ravel())"
   ]
  },
  {
   "cell_type": "code",
   "execution_count": 10,
   "metadata": {},
   "outputs": [
    {
     "name": "stdout",
     "output_type": "stream",
     "text": [
      "\n",
      "Training data set score is 0.759967946798\n",
      "\n",
      "Best max_depth parameter is 13\n",
      "\n",
      "Test data set score is 0.731071669288\n",
      "\n",
      "Classification Report\n",
      "\n",
      "             precision    recall  f1-score   support\n",
      "\n",
      "          0       0.68      0.68      0.68     27890\n",
      "          1       0.77      0.77      0.77     38875\n",
      "\n",
      "avg / total       0.73      0.73      0.73     66765\n",
      "\n",
      "Confusion Matrix\n",
      "\n"
     ]
    },
    {
     "data": {
      "image/png": "[encoded data removed]",
      "text/plain": [
       "<matplotlib.figure.Figure at 0x3c48128>"
      ]
     },
     "metadata": {},
     "output_type": "display_data"
    },
    {
     "data": {
      "image/png": "[encoded data removed]",
      "text/plain": [
       "<matplotlib.figure.Figure at 0x428f72e8>"
      ]
     },
     "metadata": {},
     "output_type": "display_data"
    }
   ],
   "source": [
    "## Training Score\n",
    "print('\\nTraining data set score is {}\\n'.format(accuracy_score(clf3.predict(X_train),y_train)))\n",
    "\n",
    "## Hyperparameter and test score\n",
    "print(\"Best max_depth parameter is {}\\n\".format(best_max_depth))\n",
    "print('Test data set score is {}\\n'.format(accuracy_score(clf3.predict(X_test),y_test)))\n",
    "\n",
    "## Classification report\n",
    "print('Classification Report\\n')\n",
    "print(classification_report(y_test,clf3.predict(X_test)))\n",
    "\n",
    "\n",
    "## Confustion matrix\n",
    "print('Confusion Matrix\\n')\n",
    "#labels = ['run', 'pass']\n",
    "confmat = confusion_matrix(y_test, clf3.predict(X_test))\n",
    "confmat_n = confmat.astype('float')/confmat.sum(axis=1)[:, np.newaxis]\n",
    "fig, ax = plt.subplots(figsize=(5,5))\n",
    "sns.heatmap(confmat_n, annot=True, fmt='.2f', cmap='Blues', ax=ax)\n",
    "ax.set_ylabel('Actual')\n",
    "ax.set_xlabel('Predicted')\n",
    "ax.axhspan    \n",
    "plt.savefig('Conf_mat_DT.png')\n",
    "\n",
    "## ROC Curve\n",
    "y_pred_prob = clf3.predict_proba(X_test)[:,1]\n",
    "fpr, tpr, thresholds = roc_curve(y_test, y_pred_prob);\n",
    "fig, ax = plt.subplots()\n",
    "ax.plot([0, 1], [0, 1], 'k--')\n",
    "ax.plot(fpr, tpr)\n",
    "ax.set_xlabel('False Positive Rate')\n",
    "ax.set_ylabel('True Positive Rate')\n",
    "ax.set_title('ROC Curve');\n",
    "plt.savefig('ROC_DT.png')\n",
    "\n",
    "## ROC Area"
   ]
  },
  {
   "cell_type": "markdown",
   "metadata": {},
   "source": [
    "## Random Forest"
   ]
  },
  {
   "cell_type": "code",
   "execution_count": 5,
   "metadata": {},
   "outputs": [
    {
     "name": "stdout",
     "output_type": "stream",
     "text": [
      "Fitting 5 folds for each of 27 candidates, totalling 135 fits\n"
     ]
    },
    {
     "name": "stderr",
     "output_type": "stream",
     "text": [
      "[Parallel(n_jobs=-1)]: Done 132 out of 135 | elapsed: 32.7min remaining:   44.5s\n",
      "[Parallel(n_jobs=-1)]: Done 135 out of 135 | elapsed: 33.3min finished\n"
     ]
    }
   ],
   "source": [
    "rf = RandomForestClassifier(random_state = 42)\n",
    "param_grid = {\n",
    "            'bootstrap': [True],\n",
    "            'max_depth': [15, 20, 25],\n",
    "            'min_samples_leaf': [3, 4, 5],\n",
    "            'min_samples_split': [2, 4, 6],\n",
    "            'n_estimators': [1000]\n",
    "            }\n",
    "gs = sklearn.model_selection.GridSearchCV(estimator = rf, param_grid = param_grid, n_jobs = -1, verbose = 2, cv=5)\n",
    "gs_results = gs.fit(X_train,y_train.values.ravel())\n",
    "best_grid = gs_results.best_estimator_"
   ]
  },
  {
   "cell_type": "code",
   "execution_count": 7,
   "metadata": {},
   "outputs": [
    {
     "name": "stdout",
     "output_type": "stream",
     "text": [
      "\n",
      "Training data set score is 0.823815978671\n",
      "\n",
      "Best hyperparameters are\n",
      "\n",
      "RandomForestClassifier(bootstrap=True, class_weight=None, criterion='gini',\n",
      "            max_depth=20, max_features='auto', max_leaf_nodes=None,\n",
      "            min_impurity_decrease=0.0, min_impurity_split=None,\n",
      "            min_samples_leaf=4, min_samples_split=2,\n",
      "            min_weight_fraction_leaf=0.0, n_estimators=1000, n_jobs=1,\n",
      "            oob_score=False, random_state=42, verbose=0, warm_start=False)\n",
      "\n",
      "Test data set score is 0.752040739909\n",
      "\n",
      "Classification Report\n",
      "\n",
      "             precision    recall  f1-score   support\n",
      "\n",
      "          0       0.71      0.70      0.70     27890\n",
      "          1       0.78      0.79      0.79     38875\n",
      "\n",
      "avg / total       0.75      0.75      0.75     66765\n",
      "\n",
      "Features sorted by their score:\n",
      "[(0.2732, 'shotgun'), (0.103, 'cum_run_yards'), (0.0951, 'play_clock'), (0.0884, 'ydstogo'), (0.0824, 'down'), (0.074, 'cum_pass_yards'), (0.0709, 'score_differential'), (0.0614, 'teamQB_dual_threat_rating'), (0.0597, 'yards_to_goal'), (0.0586, 'cum_pass_comp%'), (0.0157, 'posteam_timeouts_remaining'), (0.0137, 'qtr'), (0.0041, 'no_huddle')]\n",
      "Confusion Matrix\n",
      "\n"
     ]
    },
    {
     "data": {
      "image/png": "[encoded data removed]",
      "text/plain": [
       "<matplotlib.figure.Figure at 0x3eb69c88>"
      ]
     },
     "metadata": {},
     "output_type": "display_data"
    },
    {
     "data": {
      "image/png": "[encoded data removed]",
      "text/plain": [
       "<matplotlib.figure.Figure at 0xc3f29fd0>"
      ]
     },
     "metadata": {},
     "output_type": "display_data"
    }
   ],
   "source": [
    "## Training Score\n",
    "print('\\nTraining data set score is {}\\n'.format(accuracy_score(best_grid.predict(X_train),y_train)))\n",
    "\n",
    "## Hyperparameter and test score\n",
    "print(\"Best hyperparameters are\\n\")\n",
    "print(best_grid)\n",
    "print('\\nTest data set score is {}\\n'.format(accuracy_score(best_grid.predict(X_test),y_test)))\n",
    "\n",
    "## Classification report\n",
    "print('Classification Report\\n')\n",
    "print(classification_report(y_test,best_grid.predict(X_test)))\n",
    "\n",
    "## Feature Importance\n",
    "print \"Features sorted by their score:\"\n",
    "print sorted(zip(map(lambda x: round(x, 4), best_grid.feature_importances_), X_train.columns), \n",
    "             reverse=True)\n",
    "\n",
    "## Confustion matrix\n",
    "print('Confusion Matrix\\n')\n",
    "#labels = ['run', 'pass']\n",
    "confmat = confusion_matrix(y_test, best_grid.predict(X_test))\n",
    "confmat_n = confmat.astype('float')/confmat.sum(axis=1)[:, np.newaxis]\n",
    "fig, ax = plt.subplots(figsize=(5,5))\n",
    "sns.heatmap(confmat_n, annot=True, fmt='.2f', cmap='Blues', ax=ax)\n",
    "ax.set_ylabel('Actual')\n",
    "ax.set_xlabel('Predicted')\n",
    "ax.axhspan  \n",
    "plt.savefig('Conf_mat_RF.png')\n",
    "\n",
    "## ROC Curve\n",
    "y_pred_prob = best_grid.predict_proba(X_test)[:,1]\n",
    "fpr, tpr, thresholds = roc_curve(y_test, y_pred_prob)\n",
    "fig, ax = plt.subplots()\n",
    "ax.plot([0, 1], [0, 1], 'k--')\n",
    "ax.plot(fpr, tpr)\n",
    "ax.set_xlabel('False Positive Rate')\n",
    "ax.set_ylabel('True Positive Rate')\n",
    "ax.set_title('ROC Curve');\n",
    "plt.savefig('ROC_RF.png')"
   ]
  },
  {
   "cell_type": "code",
   "execution_count": null,
   "metadata": {},
   "outputs": [],
   "source": []
  }
 ],
 "metadata": {
  "kernelspec": {
   "display_name": "Python 2",
   "language": "python",
   "name": "python2"
  },
  "language_info": {
   "codemirror_mode": {
    "name": "ipython",
    "version": 2
   },
   "file_extension": ".py",
   "mimetype": "text/x-python",
   "name": "python",
   "nbconvert_exporter": "python",
   "pygments_lexer": "ipython2",
   "version": "2.7.14"
  }
 },
 "nbformat": 4,
 "nbformat_minor": 2
}
