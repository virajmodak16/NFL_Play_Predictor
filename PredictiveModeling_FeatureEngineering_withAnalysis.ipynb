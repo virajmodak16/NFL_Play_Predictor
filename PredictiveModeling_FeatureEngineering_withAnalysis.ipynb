{
 "cells": [
  {
   "cell_type": "markdown",
   "metadata": {},
   "source": [
    "## Import all relevant libraries"
   ]
  },
  {
   "cell_type": "code",
   "execution_count": 6,
   "metadata": {},
   "outputs": [],
   "source": [
    "import pandas as pd\n",
    "import numpy as np\n",
    "import os\n",
    "import sklearn\n",
    "import matplotlib.pyplot as plt\n",
    "import seaborn as sns\n",
    "import time\n",
    "\n",
    "from sklearn.model_selection import train_test_split\n",
    "from sklearn.linear_model import LogisticRegression\n",
    "from sklearn.neighbors import KNeighborsClassifier\n",
    "from sklearn.tree import DecisionTreeClassifier\n",
    "from sklearn.ensemble import RandomForestClassifier\n",
    "from sklearn.ensemble import AdaBoostClassifier\n",
    "from sklearn.svm import SVC\n",
    "from sklearn.preprocessing import LabelEncoder\n",
    "from sklearn.preprocessing import StandardScaler\n",
    "\n",
    "from sklearn.metrics import accuracy_score\n",
    "from sklearn.metrics import classification_report\n",
    "from sklearn.metrics import confusion_matrix\n",
    "from sklearn.metrics import roc_auc_score\n",
    "from sklearn.metrics import roc_curve, auc"
   ]
  },
  {
   "cell_type": "markdown",
   "metadata": {},
   "source": [
    "## Load and clean-up data one last time before training\n",
    "\n",
    "## Includes Feature Engineering\n",
    "\n",
    "1. One Hot encoding which is possible for QTR/Down/Timeouts\n",
    "2. Feature normalization for all contintuous variables\n",
    "3. Add another feature with \"previous play\""
   ]
  },
  {
   "cell_type": "code",
   "execution_count": 7,
   "metadata": {},
   "outputs": [
    {
     "name": "stdout",
     "output_type": "stream",
     "text": [
      "<class 'pandas.core.frame.DataFrame'>\n",
      "Int64Index: 333821 entries, 0 to 336966\n",
      "Data columns (total 24 columns):\n",
      "game_id                       333821 non-null int64\n",
      "posteam                       333821 non-null object\n",
      "defteam                       333821 non-null object\n",
      "qtr                           333821 non-null int64\n",
      "desc                          333821 non-null object\n",
      "shotgun                       333821 non-null int64\n",
      "no_huddle                     333821 non-null int64\n",
      "down                          333821 non-null int32\n",
      "ydstogo                       333821 non-null float64\n",
      "posteam_timeouts_remaining    333821 non-null int64\n",
      "score_differential            333821 non-null float64\n",
      "play_clock                    333821 non-null float64\n",
      "yards_to_goal                 333821 non-null float64\n",
      "cum_pass_comp%                333821 non-null float64\n",
      "cum_pass_yards                333821 non-null float64\n",
      "cum_run_yards                 333821 non-null float64\n",
      "teamQB_dual_threat_rating     333821 non-null float64\n",
      "play_type                     333821 non-null int64\n",
      "qtr_1                         333821 non-null uint8\n",
      "qtr_2                         333821 non-null uint8\n",
      "qtr_3                         333821 non-null uint8\n",
      "qtr_4                         333821 non-null uint8\n",
      "prev_pass_0.0                 333821 non-null uint8\n",
      "prev_pass_1.0                 333821 non-null uint8\n",
      "dtypes: float64(8), int32(1), int64(6), object(3), uint8(6)\n",
      "memory usage: 49.0+ MB\n"
     ]
    }
   ],
   "source": [
    "homepath = r\"D:\\\\Viraj_Work\\\\NFL Play Predictor\\\\Data\"\n",
    "os.chdir(homepath)\n",
    "\n",
    "Final_Data = pd.read_csv('FINAL_PBP_DATA.csv', keep_default_na=False, low_memory=False) #read all the data as list\n",
    "qtrs = [1,2,3,4]\n",
    "downs = ['1','2','3','4']\n",
    "Final_Data = Final_Data[Final_Data['qtr'].isin(qtrs) & Final_Data['down'].isin(downs)]\n",
    "Final_Data = Final_Data[Final_Data['score_differential'] != 'NA']\n",
    "\n",
    "Final_Data['down'] = Final_Data['down'].astype(int)\n",
    "Final_Data['score_differential'] = Final_Data['score_differential'].astype(float)\n",
    "Final_Data['play_clock'] = Final_Data['play_clock'].astype(float)\n",
    "\n",
    "play_dict = {'pass': 1, 'run': 0}\n",
    "Final_Data['play_type'] = Final_Data['play_type'].map(play_dict)\n",
    "\n",
    "# One hot encoding with dropping first instances\n",
    "Final_Data = pd.concat([Final_Data,pd.get_dummies(Final_Data['qtr'], prefix='qtr')],axis=1)\n",
    "\n",
    "# Extract previous play\n",
    "Final_Data['Prev_Play'] = Final_Data.groupby(['game_id','posteam'])['play_type'].shift().fillna(2)\n",
    "Final_Data = pd.concat([Final_Data,pd.get_dummies(Final_Data['Prev_Play'], prefix='prev_pass')],axis=1)\n",
    "Final_Data.drop(['Prev_Play'],axis=1, inplace=True)\n",
    "Final_Data.drop(['prev_pass_2.0'],axis=1, inplace=True)\n",
    "Final_Data.to_csv('dummy_prev_play.csv', header=True)\n",
    "\n",
    "#normalize select features\n",
    "\n",
    "\n",
    "sc=StandardScaler()\n",
    "Final_Data[['ydstogo','score_differential',\n",
    "            'play_clock','yards_to_goal',\n",
    "            'cum_pass_yards','cum_run_yards']] = sc.fit_transform(Final_Data[['ydstogo','score_differential',\n",
    "                                                                'play_clock','yards_to_goal',\n",
    "                                                                'cum_pass_yards','cum_run_yards']])\n",
    "\n",
    "Final_Data.info()"
   ]
  },
  {
   "cell_type": "markdown",
   "metadata": {},
   "source": [
    "## Separate inpendent/response variables and train/test sets"
   ]
  },
  {
   "cell_type": "code",
   "execution_count": 8,
   "metadata": {},
   "outputs": [
    {
     "name": "stdout",
     "output_type": "stream",
     "text": [
      "Following is the information on our dataset\n",
      "\n",
      "<class 'pandas.core.frame.DataFrame'>\n",
      "Int64Index: 333821 entries, 0 to 336966\n",
      "Data columns (total 19 columns):\n",
      "game_id                       333821 non-null int64\n",
      "posteam                       333821 non-null object\n",
      "qtr_2                         333821 non-null uint8\n",
      "qtr_3                         333821 non-null uint8\n",
      "qtr_4                         333821 non-null uint8\n",
      "down                          333821 non-null int32\n",
      "ydstogo                       333821 non-null float64\n",
      "shotgun                       333821 non-null int64\n",
      "no_huddle                     333821 non-null int64\n",
      "posteam_timeouts_remaining    333821 non-null int64\n",
      "score_differential            333821 non-null float64\n",
      "play_clock                    333821 non-null float64\n",
      "yards_to_goal                 333821 non-null float64\n",
      "cum_pass_comp%                333821 non-null float64\n",
      "cum_pass_yards                333821 non-null float64\n",
      "cum_run_yards                 333821 non-null float64\n",
      "teamQB_dual_threat_rating     333821 non-null float64\n",
      "prev_pass_0.0                 333821 non-null uint8\n",
      "prev_pass_1.0                 333821 non-null uint8\n",
      "dtypes: float64(8), int32(1), int64(4), object(1), uint8(5)\n",
      "memory usage: 38.5+ MB\n",
      "None\n",
      "1    195433\n",
      "0    138388\n",
      "Name: play_type, dtype: int64\n",
      "1    156558\n",
      "0    110498\n",
      "Name: play_type, dtype: int64\n",
      "1    38875\n",
      "0    27890\n",
      "Name: play_type, dtype: int64\n"
     ]
    }
   ],
   "source": [
    "X_Full = Final_Data[['game_id','posteam','qtr_2','qtr_3','qtr_4', 'down', 'ydstogo', 'shotgun', 'no_huddle',\n",
    "       'posteam_timeouts_remaining', 'score_differential', 'play_clock',\n",
    "       'yards_to_goal', 'cum_pass_comp%', 'cum_pass_yards', 'cum_run_yards',\n",
    "       'teamQB_dual_threat_rating','prev_pass_0.0','prev_pass_1.0']]\n",
    "y_Full = Final_Data[['play_type']]\n",
    "\n",
    "print(\"Following is the information on our dataset\\n\")\n",
    "print(X_Full.info())\n",
    "\n",
    "X_train, X_test,y_train, y_test = train_test_split(X_Full, y_Full, test_size=0.2, random_state=42)\n",
    "print(y_Full['play_type'].value_counts())\n",
    "print(y_train['play_type'].value_counts())\n",
    "print(y_test['play_type'].value_counts())"
   ]
  },
  {
   "cell_type": "code",
   "execution_count": 10,
   "metadata": {},
   "outputs": [],
   "source": [
    "X_train_2 = X_train[['qtr_2','qtr_3','qtr_4', 'down', 'ydstogo', 'shotgun', 'no_huddle',\n",
    "       'posteam_timeouts_remaining', 'score_differential', 'play_clock',\n",
    "       'yards_to_goal', 'cum_pass_comp%', 'cum_pass_yards', 'cum_run_yards',\n",
    "       'teamQB_dual_threat_rating','prev_pass_0.0','prev_pass_1.0']]\n",
    "\n",
    "X_test_2 = X_test[['qtr_2','qtr_3','qtr_4', 'down', 'ydstogo', 'shotgun', 'no_huddle',\n",
    "       'posteam_timeouts_remaining', 'score_differential', 'play_clock',\n",
    "       'yards_to_goal', 'cum_pass_comp%', 'cum_pass_yards', 'cum_run_yards',\n",
    "       'teamQB_dual_threat_rating','prev_pass_0.0','prev_pass_1.0']]"
   ]
  },
  {
   "cell_type": "markdown",
   "metadata": {},
   "source": [
    "## Logistic Regression"
   ]
  },
  {
   "cell_type": "code",
   "execution_count": 5,
   "metadata": {
    "scrolled": false
   },
   "outputs": [
    {
     "name": "stdout",
     "output_type": "stream",
     "text": [
      "Fitting 5 folds for each of 4 candidates, totalling 20 fits\n",
      "[CV] C=1 .............................................................\n",
      "[CV] ........................ C=1, score=0.719632292369, total=   3.9s\n",
      "[CV] C=1 .............................................................\n"
     ]
    },
    {
     "name": "stderr",
     "output_type": "stream",
     "text": [
      "[Parallel(n_jobs=1)]: Done   1 out of   1 | elapsed:    4.1s remaining:    0.0s\n"
     ]
    },
    {
     "name": "stdout",
     "output_type": "stream",
     "text": [
      "[CV] ........................ C=1, score=0.719744626676, total=   3.5s\n",
      "[CV] C=1 .............................................................\n"
     ]
    },
    {
     "name": "stderr",
     "output_type": "stream",
     "text": [
      "[Parallel(n_jobs=1)]: Done   2 out of   2 | elapsed:    7.8s remaining:    0.0s\n"
     ]
    },
    {
     "name": "stdout",
     "output_type": "stream",
     "text": [
      "[CV] ........................ C=1, score=0.720624578746, total=   4.0s\n",
      "[CV] C=1 .............................................................\n",
      "[CV] ........................ C=1, score=0.719378393559, total=   4.1s\n",
      "[CV] C=1 .............................................................\n",
      "[CV] ........................ C=1, score=0.723066841415, total=   4.6s\n",
      "[CV] C=10 ............................................................\n",
      "[CV] ....................... C=10, score=0.719688459522, total=   4.2s\n",
      "[CV] C=10 ............................................................\n",
      "[CV] ........................ C=10, score=0.71976334906, total=   4.3s\n",
      "[CV] C=10 ............................................................\n",
      "[CV] ....................... C=10, score=0.720624578746, total=   3.9s\n",
      "[CV] C=10 ............................................................\n",
      "[CV] ........................ C=10, score=0.71941583973, total=   5.2s\n",
      "[CV] C=10 ............................................................\n",
      "[CV] ........................ C=10, score=0.72304811833, total=   4.9s\n",
      "[CV] C=100 ...........................................................\n",
      "[CV] ...................... C=100, score=0.719688459522, total=   3.2s\n",
      "[CV] C=100 ...........................................................\n",
      "[CV] ...................... C=100, score=0.719744626676, total=   3.5s\n",
      "[CV] C=100 ...........................................................\n",
      "[CV] ...................... C=100, score=0.720624578746, total=   5.1s\n",
      "[CV] C=100 ...........................................................\n",
      "[CV] ....................... C=100, score=0.71941583973, total=   3.7s\n",
      "[CV] C=100 ...........................................................\n",
      "[CV] ....................... C=100, score=0.72304811833, total=   4.1s\n",
      "[CV] C=1000 ..........................................................\n",
      "[CV] ..................... C=1000, score=0.719688459522, total=   5.0s\n",
      "[CV] C=1000 ..........................................................\n",
      "[CV] ..................... C=1000, score=0.719744626676, total=   3.7s\n",
      "[CV] C=1000 ..........................................................\n",
      "[CV] ..................... C=1000, score=0.720624578746, total=   4.4s\n",
      "[CV] C=1000 ..........................................................\n",
      "[CV] ...................... C=1000, score=0.71941583973, total=   4.7s\n",
      "[CV] C=1000 ..........................................................\n",
      "[CV] ..................... C=1000, score=0.723066841415, total=   4.1s\n"
     ]
    },
    {
     "name": "stderr",
     "output_type": "stream",
     "text": [
      "[Parallel(n_jobs=1)]: Done  20 out of  20 | elapsed:  1.5min finished\n"
     ]
    },
    {
     "data": {
      "text/plain": [
       "LogisticRegression(C=10, class_weight=None, dual=False, fit_intercept=True,\n",
       "          intercept_scaling=1, max_iter=100, multi_class='ovr', n_jobs=1,\n",
       "          penalty='l2', random_state=None, solver='liblinear', tol=0.0001,\n",
       "          verbose=0, warm_start=False)"
      ]
     },
     "execution_count": 5,
     "metadata": {},
     "output_type": "execute_result"
    }
   ],
   "source": [
    "clf2 = LogisticRegression(solver='liblinear')\n",
    "gs = sklearn.model_selection.GridSearchCV(clf2, param_grid={'C': [1, 10, 100, 1000]}, cv = 5, verbose=3)\n",
    "gs.fit(X_train_2,y_train.values.ravel())\n",
    "clf2 = LogisticRegression(C=gs.best_params_['C'], solver='liblinear')\n",
    "clf2.fit(X_train_2,y_train.values.ravel())"
   ]
  },
  {
   "cell_type": "code",
   "execution_count": 6,
   "metadata": {},
   "outputs": [
    {
     "name": "stdout",
     "output_type": "stream",
     "text": [
      "Weight coefficients are as follows\n",
      "\n",
      "                             Weights\n",
      "qtr_2                       0.027882\n",
      "qtr_3                      -0.188538\n",
      "qtr_4                      -0.423901\n",
      "down                        0.540235\n",
      "ydstogo                     0.368240\n",
      "shotgun                     1.486618\n",
      "no_huddle                  -0.003373\n",
      "posteam_timeouts_remaining -0.151640\n",
      "score_differential         -0.283508\n",
      "play_clock                 -0.204186\n",
      "yards_to_goal               0.046271\n",
      "cum_pass_comp%              0.606326\n",
      "cum_pass_yards              0.278876\n",
      "cum_run_yards              -0.375496\n",
      "teamQB_dual_threat_rating  -0.458145\n",
      "prev_pass_0.0              -0.176747\n",
      "prev_pass_1.0              -0.456718\n",
      "\n",
      "Training data set score is 0.720567970763\n",
      "\n",
      "Best C parameter is 10\n",
      "\n",
      "Test data set score is 0.723253201528\n",
      "\n",
      "Classification Report\n",
      "\n",
      "             precision    recall  f1-score   support\n",
      "\n",
      "          0       0.67      0.66      0.67     27890\n",
      "          1       0.76      0.77      0.76     38875\n",
      "\n",
      "avg / total       0.72      0.72      0.72     66765\n",
      "\n",
      "Confusion Matrix\n",
      "\n"
     ]
    },
    {
     "data": {
      "image/png": "[encoded data removed]",
      "text/plain": [
       "<matplotlib.figure.Figure at 0x3d0ed668>"
      ]
     },
     "metadata": {},
     "output_type": "display_data"
    },
    {
     "data": {
      "image/png": "[encoded data removed]",
      "text/plain": [
       "<matplotlib.figure.Figure at 0x3d0dcba8>"
      ]
     },
     "metadata": {},
     "output_type": "display_data"
    }
   ],
   "source": [
    "## Print Log Reg weights\n",
    "print('Weight coefficients are as follows\\n')\n",
    "weights = pd.DataFrame(clf2.coef_.T, index = X_train_2.columns, columns = ['Weights'])\n",
    "print(weights)\n",
    "\n",
    "## Training Score\n",
    "print('\\nTraining data set score is {}\\n'.format(accuracy_score(clf2.predict(X_train_2),y_train)))\n",
    "\n",
    "## Hyperparameter and test score\n",
    "print(\"Best C parameter is {}\\n\".format(gs.best_params_['C']))\n",
    "print('Test data set score is {}\\n'.format(accuracy_score(clf2.predict(X_test_2),y_test)))\n",
    "\n",
    "## Classification report\n",
    "print('Classification Report\\n')\n",
    "print(classification_report(y_test,clf2.predict(X_test_2)))\n",
    "\n",
    "## Confustion matrix\n",
    "print('Confusion Matrix\\n')\n",
    "#labels = ['run', 'pass']\n",
    "confmat = confusion_matrix(y_test, clf2.predict(X_test_2))\n",
    "confmat_n = confmat.astype('float')/confmat.sum(axis=1)[:, np.newaxis]\n",
    "fig, ax = plt.subplots(figsize=(5,5))\n",
    "sns.heatmap(confmat_n, annot=True, fmt='.2f', cmap='Blues', ax=ax)\n",
    "ax.set_ylabel('Actual')\n",
    "ax.set_xlabel('Predicted')\n",
    "ax.axhspan  \n",
    "\n",
    "## ROC Curve\n",
    "y_pred_prob = clf2.predict_proba(X_test_2)[:,1]\n",
    "fpr, tpr, thresholds = roc_curve(y_test, y_pred_prob)\n",
    "fig, ax = plt.subplots()\n",
    "ax.plot([0, 1], [0, 1], 'k--')\n",
    "ax.plot(fpr, tpr)\n",
    "ax.set_xlabel('False Positive Rate')\n",
    "ax.set_ylabel('True Positive Rate')\n",
    "ax.set_title('ROC Curve');\n",
    "\n",
    "## ROC Area"
   ]
  },
  {
   "cell_type": "markdown",
   "metadata": {},
   "source": [
    "## Decision Trees"
   ]
  },
  {
   "cell_type": "code",
   "execution_count": 7,
   "metadata": {
    "scrolled": false
   },
   "outputs": [
    {
     "name": "stdout",
     "output_type": "stream",
     "text": [
      "Fitting 5 folds for each of 10 candidates, totalling 50 fits\n",
      "[CV] max_depth=10 ....................................................\n",
      "[CV] ............... max_depth=10, score=0.734891035722, total=   1.4s\n",
      "[CV] max_depth=10 ....................................................\n"
     ]
    },
    {
     "name": "stderr",
     "output_type": "stream",
     "text": [
      "[Parallel(n_jobs=1)]: Done   1 out of   1 | elapsed:    1.7s remaining:    0.0s\n"
     ]
    },
    {
     "name": "stdout",
     "output_type": "stream",
     "text": [
      "[CV] ............... max_depth=10, score=0.735153149105, total=   1.5s\n",
      "[CV] max_depth=10 ....................................................\n"
     ]
    },
    {
     "name": "stderr",
     "output_type": "stream",
     "text": [
      "[Parallel(n_jobs=1)]: Done   2 out of   2 | elapsed:    3.7s remaining:    0.0s\n"
     ]
    },
    {
     "name": "stdout",
     "output_type": "stream",
     "text": [
      "[CV] ............... max_depth=10, score=0.736650939864, total=   1.3s\n",
      "[CV] max_depth=10 ....................................................\n",
      "[CV] ............... max_depth=10, score=0.736865755477, total=   1.8s\n",
      "[CV] max_depth=10 ....................................................\n",
      "[CV] ............... max_depth=10, score=0.740123572365, total=   1.8s\n",
      "[CV] max_depth=11 ....................................................\n",
      "[CV] ............... max_depth=11, score=0.736613495095, total=   1.7s\n",
      "[CV] max_depth=11 ....................................................\n",
      "[CV] ............... max_depth=11, score=0.735752265409, total=   2.1s\n",
      "[CV] max_depth=11 ....................................................\n",
      "[CV] ............... max_depth=11, score=0.739084849846, total=   2.0s\n",
      "[CV] max_depth=11 ....................................................\n",
      "[CV] ............... max_depth=11, score=0.736360232166, total=   1.8s\n",
      "[CV] max_depth=11 ....................................................\n",
      "[CV] ............... max_depth=11, score=0.740235910878, total=   1.9s\n",
      "[CV] max_depth=12 ....................................................\n",
      "[CV] ............... max_depth=12, score=0.736351381712, total=   2.1s\n",
      "[CV] max_depth=12 ....................................................\n",
      "[CV] ............... max_depth=12, score=0.736089268329, total=   2.0s\n",
      "[CV] max_depth=12 ....................................................\n",
      "[CV] ............... max_depth=12, score=0.738878903617, total=   2.3s\n",
      "[CV] max_depth=12 ....................................................\n",
      "[CV] ............... max_depth=12, score=0.734693877551, total=   2.2s\n",
      "[CV] max_depth=12 ....................................................\n",
      "[CV] ............... max_depth=12, score=0.740011233851, total=   2.0s\n",
      "[CV] max_depth=13 ....................................................\n",
      "[CV] ............... max_depth=13, score=0.733992361267, total=   2.1s\n",
      "[CV] max_depth=13 ....................................................\n",
      "[CV] ............... max_depth=13, score=0.735902044484, total=   1.8s\n",
      "[CV] max_depth=13 ....................................................\n",
      "[CV] ................ max_depth=13, score=0.73659477271, total=   1.8s\n",
      "[CV] max_depth=13 ....................................................\n",
      "[CV] ................ max_depth=13, score=0.73499344692, total=   1.8s\n",
      "[CV] max_depth=13 ....................................................\n",
      "[CV] ............... max_depth=13, score=0.739449541284, total=   1.9s\n",
      "[CV] max_depth=14 ....................................................\n",
      "[CV] ................ max_depth=14, score=0.73333707781, total=   1.9s\n",
      "[CV] max_depth=14 ....................................................\n",
      "[CV] ............... max_depth=14, score=0.733037519659, total=   1.9s\n",
      "[CV] max_depth=14 ....................................................\n",
      "[CV] ............... max_depth=14, score=0.733318355426, total=   1.8s\n",
      "[CV] max_depth=14 ....................................................\n",
      "[CV] ............... max_depth=14, score=0.731791799289, total=   2.0s\n",
      "[CV] max_depth=14 ....................................................\n",
      "[CV] ............... max_depth=14, score=0.737390001872, total=   1.7s\n",
      "[CV] max_depth=15 ....................................................\n",
      "[CV] ............... max_depth=15, score=0.727982475848, total=   1.8s\n",
      "[CV] max_depth=15 ....................................................\n",
      "[CV] ............... max_depth=15, score=0.731689507976, total=   2.0s\n",
      "[CV] max_depth=15 ....................................................\n",
      "[CV] ............... max_depth=15, score=0.729667490452, total=   1.9s\n",
      "[CV] max_depth=15 ....................................................\n",
      "[CV] ............... max_depth=15, score=0.729002059539, total=   2.0s\n",
      "[CV] max_depth=15 ....................................................\n",
      "[CV] ............... max_depth=15, score=0.733944954128, total=   2.0s\n",
      "[CV] max_depth=16 ....................................................\n",
      "[CV] ............... max_depth=16, score=0.723376769265, total=   2.1s\n",
      "[CV] max_depth=16 ....................................................\n",
      "[CV] ............... max_depth=16, score=0.727645472927, total=   2.0s\n",
      "[CV] max_depth=16 ....................................................\n",
      "[CV] ............... max_depth=16, score=0.726971467086, total=   2.1s\n",
      "[CV] max_depth=16 ....................................................\n",
      "[CV] ................ max_depth=16, score=0.72389065718, total=   2.1s\n",
      "[CV] max_depth=16 ....................................................\n",
      "[CV] ............... max_depth=16, score=0.728384197716, total=   2.0s\n",
      "[CV] max_depth=17 ....................................................\n",
      "[CV] ............... max_depth=17, score=0.717142215233, total=   2.3s\n",
      "[CV] max_depth=17 ....................................................\n",
      "[CV] ............... max_depth=17, score=0.721691754662, total=   2.1s\n",
      "[CV] max_depth=17 ....................................................\n",
      "[CV] ............... max_depth=17, score=0.724219276567, total=   2.1s\n",
      "[CV] max_depth=17 ....................................................\n",
      "[CV] ............... max_depth=17, score=0.720745178805, total=   2.1s\n",
      "[CV] max_depth=17 ....................................................\n",
      "[CV] ............... max_depth=17, score=0.723516195469, total=   2.1s\n",
      "[CV] max_depth=18 ....................................................\n",
      "[CV] ............... max_depth=18, score=0.712798622033, total=   2.1s\n",
      "[CV] max_depth=18 ....................................................\n",
      "[CV] ............... max_depth=18, score=0.714970418633, total=   2.1s\n",
      "[CV] max_depth=18 ....................................................\n",
      "[CV] ............... max_depth=18, score=0.719182955141, total=   2.2s\n",
      "[CV] max_depth=18 ....................................................\n",
      "[CV] ............... max_depth=18, score=0.713611683205, total=   2.1s\n",
      "[CV] max_depth=18 ....................................................\n",
      "[CV] ............... max_depth=18, score=0.718348623853, total=   2.3s\n",
      "[CV] max_depth=19 ....................................................\n",
      "[CV] ............... max_depth=19, score=0.707631243915, total=   2.4s\n",
      "[CV] max_depth=19 ....................................................\n",
      "[CV] ............... max_depth=19, score=0.710682992586, total=   2.6s\n",
      "[CV] max_depth=19 ....................................................\n",
      "[CV] ................ max_depth=19, score=0.71216206096, total=   2.3s\n",
      "[CV] max_depth=19 ....................................................\n",
      "[CV] ............... max_depth=19, score=0.708350496162, total=   2.6s\n",
      "[CV] max_depth=19 ....................................................\n",
      "[CV] ............... max_depth=19, score=0.711739374649, total=   2.5s\n"
     ]
    },
    {
     "name": "stderr",
     "output_type": "stream",
     "text": [
      "[Parallel(n_jobs=1)]: Done  50 out of  50 | elapsed:  2.0min finished\n"
     ]
    },
    {
     "data": {
      "text/plain": [
       "DecisionTreeClassifier(class_weight=None, criterion='gini', max_depth=11,\n",
       "            max_features=None, max_leaf_nodes=None,\n",
       "            min_impurity_decrease=0.0, min_impurity_split=None,\n",
       "            min_samples_leaf=1, min_samples_split=2,\n",
       "            min_weight_fraction_leaf=0.0, presort=False, random_state=None,\n",
       "            splitter='best')"
      ]
     },
     "execution_count": 7,
     "metadata": {},
     "output_type": "execute_result"
    }
   ],
   "source": [
    "clf3 = DecisionTreeClassifier()\n",
    "param_grid = {'max_depth': np.arange(10, 20)}\n",
    "gs = sklearn.model_selection.GridSearchCV(clf3, param_grid, cv = 5, scoring='accuracy', verbose=3)\n",
    "gs_results = gs.fit(X_train_2,y_train.values.ravel())\n",
    "best_max_depth = gs_results.best_params_['max_depth']\n",
    "clf3 = DecisionTreeClassifier(max_depth=best_max_depth)\n",
    "clf3.fit(X_train_2,y_train.values.ravel())"
   ]
  },
  {
   "cell_type": "code",
   "execution_count": 8,
   "metadata": {},
   "outputs": [
    {
     "name": "stdout",
     "output_type": "stream",
     "text": [
      "\n",
      "Training data set score is 0.75180860943\n",
      "\n",
      "Best max_depth parameter is 11\n",
      "\n",
      "Test data set score is 0.738605556804\n",
      "\n",
      "Classification Report\n",
      "\n",
      "             precision    recall  f1-score   support\n",
      "\n",
      "          0       0.69      0.68      0.68     27890\n",
      "          1       0.77      0.78      0.78     38875\n",
      "\n",
      "avg / total       0.74      0.74      0.74     66765\n",
      "\n",
      "Confusion Matrix\n",
      "\n"
     ]
    },
    {
     "data": {
      "image/png": "[encoded data removed]",
      "text/plain": [
       "<matplotlib.figure.Figure at 0x497f7fd0>"
      ]
     },
     "metadata": {},
     "output_type": "display_data"
    },
    {
     "data": {
      "image/png": "[encoded data removed]",
      "text/plain": [
       "<matplotlib.figure.Figure at 0x3d1040b8>"
      ]
     },
     "metadata": {},
     "output_type": "display_data"
    }
   ],
   "source": [
    "## Training Score\n",
    "print('\\nTraining data set score is {}\\n'.format(accuracy_score(clf3.predict(X_train_2),y_train)))\n",
    "\n",
    "## Hyperparameter and test score\n",
    "print(\"Best max_depth parameter is {}\\n\".format(best_max_depth))\n",
    "print('Test data set score is {}\\n'.format(accuracy_score(clf3.predict(X_test_2),y_test)))\n",
    "\n",
    "## Classification report\n",
    "print('Classification Report\\n')\n",
    "print(classification_report(y_test,clf3.predict(X_test_2)))\n",
    "\n",
    "\n",
    "## Confustion matrix\n",
    "print('Confusion Matrix\\n')\n",
    "#labels = ['run', 'pass']\n",
    "confmat = confusion_matrix(y_test, clf3.predict(X_test_2))\n",
    "confmat_n = confmat.astype('float')/confmat.sum(axis=1)[:, np.newaxis]\n",
    "fig, ax = plt.subplots(figsize=(5,5))\n",
    "sns.heatmap(confmat_n, annot=True, fmt='.2f', cmap='Blues', ax=ax)\n",
    "ax.set_ylabel('Actual')\n",
    "ax.set_xlabel('Predicted')\n",
    "ax.axhspan    \n",
    "\n",
    "\n",
    "## ROC Curve\n",
    "y_pred_prob = clf3.predict_proba(X_test_2)[:,1]\n",
    "fpr, tpr, thresholds = roc_curve(y_test, y_pred_prob);\n",
    "fig, ax = plt.subplots()\n",
    "ax.plot([0, 1], [0, 1], 'k--')\n",
    "ax.plot(fpr, tpr)\n",
    "ax.set_xlabel('False Positive Rate')\n",
    "ax.set_ylabel('True Positive Rate')\n",
    "ax.set_title('ROC Curve');\n",
    "\n",
    "## ROC Area"
   ]
  },
  {
   "cell_type": "markdown",
   "metadata": {},
   "source": [
    "## Random Forest"
   ]
  },
  {
   "cell_type": "code",
   "execution_count": 11,
   "metadata": {},
   "outputs": [
    {
     "name": "stdout",
     "output_type": "stream",
     "text": [
      "Fitting 3 folds for each of 27 candidates, totalling 81 fits\n"
     ]
    },
    {
     "name": "stderr",
     "output_type": "stream",
     "text": [
      "[Parallel(n_jobs=-1)]: Done  38 out of  81 | elapsed: 12.8min remaining: 14.4min\n",
      "[Parallel(n_jobs=-1)]: Done  66 out of  81 | elapsed: 15.5min remaining:  3.5min\n",
      "[Parallel(n_jobs=-1)]: Done  81 out of  81 | elapsed: 20.8min finished\n"
     ]
    }
   ],
   "source": [
    "rf = RandomForestClassifier(random_state = 42)\n",
    "param_grid = {\n",
    "            'bootstrap': [True],\n",
    "            'max_depth': [15, 20, 25],\n",
    "            'min_samples_leaf': [3, 4, 5],\n",
    "            'min_samples_split': [2, 4, 6],\n",
    "            'n_estimators': [1000]\n",
    "            }\n",
    "gs = sklearn.model_selection.GridSearchCV(estimator = rf, param_grid = param_grid, n_jobs = -1, verbose = 3)\n",
    "gs_results = gs.fit(X_train_2,y_train.values.ravel())\n",
    "best_grid = gs_results.best_estimator_"
   ]
  },
  {
   "cell_type": "code",
   "execution_count": 12,
   "metadata": {},
   "outputs": [
    {
     "name": "stdout",
     "output_type": "stream",
     "text": [
      "\n",
      "Training data set score is 0.830990503864\n",
      "\n",
      "Best hyperparameters are\n",
      "\n",
      "RandomForestClassifier(bootstrap=True, class_weight=None, criterion='gini',\n",
      "            max_depth=20, max_features='auto', max_leaf_nodes=None,\n",
      "            min_impurity_decrease=0.0, min_impurity_split=None,\n",
      "            min_samples_leaf=4, min_samples_split=2,\n",
      "            min_weight_fraction_leaf=0.0, n_estimators=1000, n_jobs=1,\n",
      "            oob_score=False, random_state=42, verbose=0, warm_start=False)\n",
      "\n",
      "Test data set score is 0.757312963379\n",
      "\n",
      "Classification Report\n",
      "\n",
      "             precision    recall  f1-score   support\n",
      "\n",
      "          0       0.72      0.69      0.71     27890\n",
      "          1       0.79      0.80      0.79     38875\n",
      "\n",
      "avg / total       0.76      0.76      0.76     66765\n",
      "\n",
      "Confusion Matrix\n",
      "\n"
     ]
    },
    {
     "data": {
      "image/png": "[encoded data removed]",
      "text/plain": [
       "<matplotlib.figure.Figure at 0x3ca25208>"
      ]
     },
     "metadata": {},
     "output_type": "display_data"
    },
    {
     "data": {
      "image/png": "[encoded data removed]",
      "text/plain": [
       "<matplotlib.figure.Figure at 0x3f888668>"
      ]
     },
     "metadata": {},
     "output_type": "display_data"
    }
   ],
   "source": [
    "## Training Score\n",
    "print('\\nTraining data set score is {}\\n'.format(accuracy_score(best_grid.predict(X_train_2),y_train)))\n",
    "\n",
    "## Hyperparameter and test score\n",
    "print(\"Best hyperparameters are\\n\")\n",
    "print(best_grid)\n",
    "print('\\nTest data set score is {}\\n'.format(accuracy_score(best_grid.predict(X_test_2),y_test)))\n",
    "\n",
    "## Classification report\n",
    "print('Classification Report\\n')\n",
    "print(classification_report(y_test,best_grid.predict(X_test_2)))\n",
    "\n",
    "## Confustion matrix\n",
    "print('Confusion Matrix\\n')\n",
    "#labels = ['run', 'pass']\n",
    "confmat = confusion_matrix(y_test, best_grid.predict(X_test_2))\n",
    "confmat_n = confmat.astype('float')/confmat.sum(axis=1)[:, np.newaxis]\n",
    "fig, ax = plt.subplots(figsize=(5,5))\n",
    "sns.heatmap(confmat_n, annot=True, fmt='.2f', cmap='Blues', ax=ax)\n",
    "ax.set_ylabel('Actual')\n",
    "ax.set_xlabel('Predicted')\n",
    "ax.axhspan  \n",
    "\n",
    "## ROC Curve\n",
    "y_pred_prob = best_grid.predict_proba(X_test_2)[:,1]\n",
    "fpr, tpr, thresholds = roc_curve(y_test, y_pred_prob)\n",
    "fig, ax = plt.subplots()\n",
    "ax.plot([0, 1], [0, 1], 'k--')\n",
    "ax.plot(fpr, tpr)\n",
    "ax.set_xlabel('False Positive Rate')\n",
    "ax.set_ylabel('True Positive Rate')\n",
    "ax.set_title('ROC Curve');"
   ]
  },
  {
   "cell_type": "markdown",
   "metadata": {},
   "source": [
    "## Discussion and Analysis"
   ]
  },
  {
   "cell_type": "code",
   "execution_count": 34,
   "metadata": {
    "scrolled": true
   },
   "outputs": [
    {
     "name": "stderr",
     "output_type": "stream",
     "text": [
      "E:\\Anaconda2\\lib\\site-packages\\ipykernel_launcher.py:14: SettingWithCopyWarning: \n",
      "A value is trying to be set on a copy of a slice from a DataFrame.\n",
      "Try using .loc[row_indexer,col_indexer] = value instead\n",
      "\n",
      "See the caveats in the documentation: http://pandas.pydata.org/pandas-docs/stable/indexing.html#indexing-view-versus-copy\n",
      "  \n"
     ]
    },
    {
     "name": "stdout",
     "output_type": "stream",
     "text": [
      "([0.5326260625039944, 0.6173230974632844, 0.5552867324919898, 0.6135917978598241], [50.20227454938222, 52.76827265758648, 50.610742953579106, 52.59540574950664])\n",
      "([0.4864691157567147, 0.5754192449107703, 0.7920542216453962, 0.6550387596899225], [49.99692214782723, 51.14391383915294, 67.06584181584063, 54.825827241189])\n"
     ]
    }
   ],
   "source": [
    "def rand_pred(x,fn):\n",
    "    return fn[0]*(x ** fn[1]) + fn[2]*(x) + fn[3]\n",
    "    \n",
    "\n",
    "def label_qtr (row):\n",
    "    a = 1\n",
    "    if row['qtr_2'] == 1:\n",
    "        a=2\n",
    "    elif row['qtr_3'] == 1:\n",
    "        a=3\n",
    "    elif row['qtr_4'] == 1:\n",
    "        a=4\n",
    "    return a\n",
    "X_test['qtr'] = X_test.apply(lambda row: label_qtr(row), axis=1)\n",
    "predict_qtr = []\n",
    "predict_down = []\n",
    "qtr_ratio = []\n",
    "dwn_ratio = []\n",
    "\n",
    "for i in [1,2,3,4]:\n",
    "    mask = X_test['qtr'] == i\n",
    "    temp_X = X_test[mask]\n",
    "    temp_X = temp_X[['qtr_2','qtr_3','qtr_4', 'down', 'ydstogo', 'shotgun', 'no_huddle',\n",
    "       'posteam_timeouts_remaining', 'score_differential', 'play_clock',\n",
    "       'yards_to_goal', 'cum_pass_comp%', 'cum_pass_yards', 'cum_run_yards',\n",
    "       'teamQB_dual_threat_rating','prev_pass_0.0','prev_pass_1.0']]\n",
    "    temp_y = y_test[mask]\n",
    "    predict_qtr.append(accuracy_score(best_grid.predict(temp_X),temp_y))\n",
    "    pass_ct = float(temp_y['play_type'].value_counts()[1])\n",
    "    run_ct = float(temp_y['play_type'].value_counts()[0])\n",
    "    pass_pct = pass_ct/(pass_ct+run_ct)\n",
    "    qtr_ratio.append(pass_pct)\n",
    "\n",
    "for i in [1,2,3,4]:\n",
    "    mask = X_test['down'] == i\n",
    "    temp_X = X_test[mask]\n",
    "    temp_X = temp_X[['qtr_2','qtr_3','qtr_4', 'down', 'ydstogo', 'shotgun', 'no_huddle',\n",
    "       'posteam_timeouts_remaining', 'score_differential', 'play_clock',\n",
    "       'yards_to_goal', 'cum_pass_comp%', 'cum_pass_yards', 'cum_run_yards',\n",
    "       'teamQB_dual_threat_rating','prev_pass_0.0','prev_pass_1.0']]\n",
    "    temp_y = y_test[mask]\n",
    "    predict_down.append(accuracy_score(best_grid.predict(temp_X),temp_y))\n",
    "    pass_ct = float(temp_y['play_type'].value_counts()[1])\n",
    "    run_ct = float(temp_y['play_type'].value_counts()[0])\n",
    "    pass_pct = pass_ct/(pass_ct+run_ct)\n",
    "    dwn_ratio.append(pass_pct)\n",
    "\n",
    "f = [1.64949384e-02,  2.03290362e+00, -1.90010801e+00,  9.80733581e+01]\n",
    "qtr_ratio_rand_pred = []\n",
    "dwn_ratio_rand_pred = []\n",
    "\n",
    "for ctr in qtr_ratio:\n",
    "    qtr_ratio_rand_pred.append(rand_pred(ctr*100,f))\n",
    "for ctr in dwn_ratio:\n",
    "    dwn_ratio_rand_pred.append(rand_pred(ctr*100,f))\n",
    "\n",
    "print(qtr_ratio, qtr_ratio_rand_pred)\n",
    "print(dwn_ratio, dwn_ratio_rand_pred)"
   ]
  },
  {
   "cell_type": "code",
   "execution_count": 48,
   "metadata": {},
   "outputs": [
    {
     "data": {
      "image/png": "[encoded data removed]",
      "text/plain": [
       "<matplotlib.figure.Figure at 0x3f357278>"
      ]
     },
     "metadata": {},
     "output_type": "display_data"
    }
   ],
   "source": [
    "fig, ax = plt.subplots(1,2, sharey=True)\n",
    "fig.set_figheight(7)\n",
    "fig.set_figwidth(14)\n",
    "\n",
    "ax[0].scatter([1,2,3,4], predict_qtr, s = 150)\n",
    "ax[0].scatter([1,2,3,4], [x/100 for x in qtr_ratio_rand_pred], s = 150, c='orange')\n",
    "ax[0].yaxis.set_tick_params(labelsize=12)\n",
    "ax[0].set_ylabel('Accuracy', fontsize=15)\n",
    "ax[0].xaxis.set_tick_params(rotation=0, labelsize=15)\n",
    "ax[0].set_xlabel('Quarter', fontsize=15)\n",
    "ax[0].set_title('Accuracy by quarter', fontsize=15);\n",
    "ax[0].set_xticks([1,2,3,4]) \n",
    "ax[0].grid(which='major', axis='y', linestyle='--', linewidth='0.5', color='black')\n",
    "ax[0].legend(('Sybil','Random'))\n",
    "\n",
    "ax[1].scatter([1,2,3,4], predict_down,s=150)\n",
    "ax[1].scatter([1,2,3,4], [x/100 for x in dwn_ratio_rand_pred], s = 150, c='orange')\n",
    "ax[1].yaxis.set_tick_params(labelsize=12)\n",
    "ax[1].xaxis.set_tick_params(rotation=0, labelsize=15)\n",
    "ax[1].set_xlabel('Down', fontsize=15)\n",
    "ax[1].set_title('Accuracy by down', fontsize=15);\n",
    "ax[1].set_xticks([1,2,3,4])\n",
    "ax[1].grid(which='major', axis='y', linestyle='--', linewidth='0.5', color='black')\n",
    "ax[1].legend(('Sybil','Random'))\n",
    "\n",
    "plt.savefig('Accuracy_qtr_down.png')"
   ]
  },
  {
   "cell_type": "code",
   "execution_count": 58,
   "metadata": {
    "scrolled": false
   },
   "outputs": [
    {
     "name": "stdout",
     "output_type": "stream",
     "text": [
      "Segmentation done for season 2018\n"
     ]
    },
    {
     "data": {
      "image/png": "[encoded data removed]",
      "text/plain": [
       "<matplotlib.figure.Figure at 0x40a4c940>"
      ]
     },
     "metadata": {},
     "output_type": "display_data"
    },
    {
     "name": "stdout",
     "output_type": "stream",
     "text": [
      "[56.278844034511465, 51.60095131359216, 53.9256363065208, 58.958221392911256, 50.98315831993935, 50.153267816650065, 52.284525524132334, 50.13493476982118, 53.14130672001369, 50.61680637556247, 53.94956064915927, 55.34267884044634, 50.77399400796812, 54.595547696926204, 50.13426125069811, 51.97551247948192, 50.55238921148031, 50.21195723616068, 51.344080643285814, 52.627136125809514, 49.97711253298751, 54.8341233249258, 50.3265001546408, 54.53304461499269, 51.15910357879988, 51.35331981606144, 51.7748716369543, 50.6765462491823, 51.22037706931188, 50.27215710051737, 50.985993823339825, 49.995531538060604]\n"
     ]
    }
   ],
   "source": [
    "def rand_pred(x,fn):\n",
    "    return fn[0]*(x ** fn[1]) + fn[2]*(x) + fn[3]\n",
    "\n",
    "f = [1.64949384e-02,  2.03290362e+00, -1.90010801e+00,  9.80733581e+01]\n",
    "game_dict = {2018: [2018060000, 2018123100]}\n",
    "team_performance = {}\n",
    "\n",
    "# mask season games\n",
    "mask = (game_dict[2018][0] < X_test.game_id) & (X_test.game_id < game_dict[2018][1])\n",
    "X_game = X_test[mask]\n",
    "y_game = y_test[mask]\n",
    "team_ratio_rand_pred = []\n",
    "\n",
    "for team in X_game.posteam.unique():\n",
    "    \n",
    "    #mask season games for the team\n",
    "    mask2 = X_game['posteam'] == team\n",
    "    X_team = X_game[mask2]\n",
    "    y_team = y_game[mask2] \n",
    "    X_team_test = X_team[['qtr_2','qtr_3','qtr_4', 'down', 'ydstogo', 'shotgun', 'no_huddle',\n",
    "                           'posteam_timeouts_remaining', 'score_differential', 'play_clock',\n",
    "                           'yards_to_goal', 'cum_pass_comp%', 'cum_pass_yards', 'cum_run_yards',\n",
    "                           'teamQB_dual_threat_rating','prev_pass_0.0','prev_pass_1.0']]\n",
    "    team_performance[team] = accuracy_score(best_grid.predict(X_team_test),y_team)\n",
    "    pass_ct = float(y_team['play_type'].value_counts()[1])\n",
    "    run_ct = float(y_team['play_type'].value_counts()[0])\n",
    "    pass_pct = pass_ct/(pass_ct+run_ct)\n",
    "    team_ratio_rand_pred.append(rand_pred(pass_pct*100,fn))\n",
    "print('Segmentation done for season {}'.format(2018))\n",
    "\n",
    "x_var = team_performance.keys()\n",
    "y_var = team_performance.values()\n",
    "fig, ax = plt.subplots()\n",
    "fig.set_figheight(7)\n",
    "fig.set_figwidth(14)\n",
    "ax.scatter(x_var, np.array(y_var) - np.array([x/100 for x in team_ratio_rand_pred]), s = 100)\n",
    "#ax.scatter(x_var, [x/100 for x in team_ratio_rand_pred], s = 100, c='orange')\n",
    "ax.grid(which='major', axis='y', linestyle='--', linewidth='0.5', color='grey')\n",
    "ax.grid(which='major', axis='x', linestyle='-', linewidth='0.5', color='black')\n",
    "\n",
    "ax.yaxis.set_tick_params(labelsize=15)\n",
    "ax.set_ylabel('Delta Accuracy', fontsize=15)\n",
    "ax.xaxis.set_tick_params(rotation=90, labelsize=15)\n",
    "ax.set_xlabel('Team', fontsize=15)\n",
    "ax.set_title('Difference in Accuracy of Sybil over a \"Random\" prediction', fontsize=15);\n",
    "\n",
    "\n",
    "plt.show()\n",
    "print(team_ratio_rand_pred)"
   ]
  },
  {
   "cell_type": "code",
   "execution_count": 56,
   "metadata": {},
   "outputs": [
    {
     "data": {
      "text/plain": [
       "array([0.26972387, 0.14678118, 0.23217221, 0.16304937, 0.21794619,\n",
       "       0.21738624, 0.24399412, 0.242612  , 0.21412265, 0.29490721,\n",
       "       0.21427324, 0.09207586, 0.18456775, 0.19750002, 0.314042  ,\n",
       "       0.18974208, 0.24857447, 0.22039352, 0.26765372, 0.25257479,\n",
       "       0.19044627, 0.22206693, 0.20442731, 0.21782745, 0.21666983,\n",
       "       0.20536081, 0.22071282, 0.25975436, 0.24970099, 0.23801917,\n",
       "       0.23151937, 0.19040001])"
      ]
     },
     "execution_count": 56,
     "metadata": {},
     "output_type": "execute_result"
    }
   ],
   "source": [
    "np.array(y_var) - np.array([x/100 for x in team_ratio_rand_pred])"
   ]
  },
  {
   "cell_type": "code",
   "execution_count": null,
   "metadata": {},
   "outputs": [],
   "source": []
  }
 ],
 "metadata": {
  "kernelspec": {
   "display_name": "Python 2",
   "language": "python",
   "name": "python2"
  },
  "language_info": {
   "codemirror_mode": {
    "name": "ipython",
    "version": 2
   },
   "file_extension": ".py",
   "mimetype": "text/x-python",
   "name": "python",
   "nbconvert_exporter": "python",
   "pygments_lexer": "ipython2",
   "version": "2.7.14"
  }
 },
 "nbformat": 4,
 "nbformat_minor": 2
}
